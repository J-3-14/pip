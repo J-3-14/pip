{
 "cells": [
  {
   "cell_type": "markdown",
   "id": "ded43bf0",
   "metadata": {},
   "source": [
    "<img src=\"https://gamepedia.cursecdn.com/fallout_gamepedia/7/78/F76_Perk_Hacker.png\" width=100 align=\"left\" />\n",
    "\n",
    "<img src=\"https://vignette.wikia.nocookie.net/fallout/images/e/ec/Fo4_Hacker.png/revision/latest/scale-to-width-down/350?cb=20170320162306\" width=130 align='right' />\n",
    "\n",
    "## <center>Congratulations on finding your shiny new `Pipboy.V`</center>\n",
    "\n",
    "`J3_14`"
   ]
  },
  {
   "cell_type": "markdown",
   "id": "6eb3614a",
   "metadata": {},
   "source": [
    "<div class=\"alert alert-danger alertdanger\" style=\"margin-top: 0px\">\n",
    "<center>\n",
    "    <h5> This is a nightly version of Pipboy and comes without guarantees! </h5></center>\n",
    "</div>"
   ]
  },
  {
   "cell_type": "markdown",
   "id": "67e816eb",
   "metadata": {},
   "source": [
    "<details><summary>import.web.py</summary>\n",
    "\n",
    "\n",
    "<h1><img src=\"https://gamepedia.cursecdn.com/fallout_gamepedia/7/78/F76_Perk_Hacker.png\" width=100 align=\"left\" /img></h1>\n",
    "\n",
    "<h4>Pip your packages!</h4>  \n",
    "    \n",
    "add `await` to install multiple packages in the same cell\n",
    "\n",
    "    \n",
    "```python\n",
    "\n",
    "#!!! import the main web python packages\n",
    "import piplite\n",
    "import micropip\n",
    "await micropip.install(['ipywidgets'],keep_going=True)\n",
    "await micropip.install(['tqdm'],keep_going=True)    \n",
    "\n",
    "#--- install and import numpy\n",
    "piplite.install(['numpy'])\n",
    "import numpy as np\n",
    "\n",
    "#--- install and import pandas\n",
    "piplite.install(['pandas'])\n",
    "import pandas as pd\n",
    "    \n",
    "#--- istall and import scipy\n",
    "piplite.install(['scipy'])\n",
    "import scipy\n",
    "    \n",
    "#--- install matplotlib and import pyplot\n",
    "piplite.install(['matplotlib'])\n",
    "import matplotlib.pyplot as plt\n",
    "    \n",
    "#--- install and import webbrowser\n",
    "piplite.install(['webbrowser'])\n",
    "import webbrowser\n",
    "    \n",
    "#--- install and import requests\n",
    "piplite.install(['requests'])\n",
    "import requests\n",
    "\n",
    "#--- install bs4 and import BeautifulSoup\n",
    "piplite.install(['bs4'])\n",
    "from bs4 import BeautifulSoup\n",
    "\n",
    "#--- import pyfetch and create a function to fetch web files\n",
    "from pyodide.http import pyfetch\n",
    "async def download(url, filename):\n",
    "    response = await pyfetch(url)\n",
    "    if response.status == 200:\n",
    "        with open(filename, \"wb\") as f:\n",
    "            f.write(await response.bytes())\n",
    "\n",
    "```\n",
    "<img src=\"https://vignette.wikia.nocookie.net/fallout/images/e/ec/Fo4_Hacker.png/revision/latest/scale-to-width-down/350?cb=20170320162306\" width=130 align='right' />\n",
    "    \n",
    "</details>"
   ]
  },
  {
   "cell_type": "markdown",
   "id": "033ff075",
   "metadata": {},
   "source": [
    "<details><summary>import.local.py</summary>\n",
    "\n",
    "<h1><img src=\"https://gamepedia.cursecdn.com/fallout_gamepedia/7/78/F76_Perk_Hacker.png\" width=100 align=\"left\" /img></h1>    \n",
    "\n",
    "<h4>Pip your packages!</h4>    \n",
    "    \n",
    "comment out `!pip install` lines if you already have the packages installed\n",
    "    \n",
    "```python    \n",
    "\n",
    "# install and import numpy\n",
    "!pip install numpy\n",
    "import numpy as np\n",
    "\n",
    "# install and import pandas\n",
    "!pip install pandas\n",
    "import pandas as pd\n",
    "    \n",
    "# istall and import scipy\n",
    "!pip install scipy\n",
    "import scipy\n",
    "    \n",
    "# install matplotlib and import pyplot\n",
    "!pip install matplotlib\n",
    "import matplotlib.pyplot as plt\n",
    "    \n",
    "# install and import webbrowser\n",
    "!pip install webbrowser\n",
    "import webbrowser\n",
    "    \n",
    "# install and import requests\n",
    "!pip install requests\n",
    "import requests\n",
    "\n",
    "# install bs4 and import BeautifulSoup\n",
    "!pip install bs4\n",
    "from bs4 import BeautifulSoup\n",
    "\n",
    "\n",
    "```\n",
    "\n",
    "<img src=\"https://vignette.wikia.nocookie.net/fallout/images/e/ec/Fo4_Hacker.png/revision/latest/scale-to-width-down/350?cb=20170320162306\" width=130 align='right' />\n",
    "    \n",
    "</details>"
   ]
  },
  {
   "cell_type": "markdown",
   "id": "58ceba89",
   "metadata": {},
   "source": [
    "<h1><img src=\"https://gamepedia.cursecdn.com/fallout_gamepedia/7/78/F76_Perk_Hacker.png\" width=100 align=\"left\" /img></h1>    \n",
    "\n",
    "<h4>Try your Luck!</h4>    \n",
    "    \n",
    "`import` some packages"
   ]
  },
  {
   "cell_type": "code",
   "execution_count": null,
   "id": "cbaa7e27",
   "metadata": {},
   "outputs": [],
   "source": []
  },
  {
   "cell_type": "code",
   "execution_count": null,
   "id": "8ccba66b",
   "metadata": {},
   "outputs": [],
   "source": []
  },
  {
   "cell_type": "markdown",
   "id": "18709709",
   "metadata": {},
   "source": [
    "<img src=\"https://vignette.wikia.nocookie.net/fallout/images/e/ec/Fo4_Hacker.png/revision/latest/scale-to-width-down/350?cb=20170320162306\" width=130 align='right' />"
   ]
  },
  {
   "cell_type": "markdown",
   "id": "419f95cc",
   "metadata": {},
   "source": [
    "<details><summary>examples</summary>\n",
    "\n",
    "<h1><img src=\"https://gamepedia.cursecdn.com/fallout_gamepedia/7/78/F76_Perk_Hacker.png\" width=100 align=\"left\" /img></h1>    \n",
    "\n",
    "<h4>Try some examples</h4>    \n",
    "    \n",
    "`import` the appropriate packages first!\n",
    "\n",
    "```python\n",
    "#!!! swap path url and \"test.csv\" with web hosted csv file\n",
    "path = \"https://example.com/test.csv\"\n",
    "await download(path, \"test.csv\")\n",
    "path=\"test.csv\"\n",
    "web_frame = pd.DataFrame(path)\n",
    "web_frame\n",
    "\n",
    "#--- open a wikipedia search in a new tab\n",
    "search = input(\"search wikipedia:\")\n",
    "webbrowser.open_new_tab(\"https://wikipedia.org/wiki/\"+search)\n",
    "    \n",
    "#--- scrape website html\n",
    "scrape = input(\"website:\")\n",
    "req = requests.get(search)\n",
    "soup = BeautifulSoup(req.content)\n",
    "soup\n",
    "    \n",
    "#--- create a random dataframe\n",
    "x = np.random.randint(10)\n",
    "random_array = dict()\n",
    "for i in range(x):\n",
    "    y = np.random.rand(10)\n",
    "    random_array[i]=y\n",
    "random_frame = pd.DataFrame(random_array)\n",
    "random_frame\n",
    "\n",
    "```\n",
    "\n",
    "<img src=\"https://vignette.wikia.nocookie.net/fallout/images/e/ec/Fo4_Hacker.png/revision/latest/scale-to-width-down/350?cb=20170320162306\" width=130 align='right' />    \n",
    "    \n",
    "</details>"
   ]
  },
  {
   "cell_type": "markdown",
   "id": "cc59e42a",
   "metadata": {},
   "source": [
    "<h1><img src=\"https://gamepedia.cursecdn.com/fallout_gamepedia/7/78/F76_Perk_Hacker.png\" width=100 align=\"left\" /img></h1>    \n",
    "\n",
    "<h4>Test your Intelligence!</h4>    \n",
    "    \n",
    "`examples` are there to be modified"
   ]
  },
  {
   "cell_type": "code",
   "execution_count": null,
   "id": "7947c6bd",
   "metadata": {},
   "outputs": [],
   "source": []
  },
  {
   "cell_type": "code",
   "execution_count": null,
   "id": "debba591",
   "metadata": {},
   "outputs": [],
   "source": []
  },
  {
   "cell_type": "markdown",
   "id": "0677cfe2",
   "metadata": {},
   "source": [
    "<img src=\"https://vignette.wikia.nocookie.net/fallout/images/e/ec/Fo4_Hacker.png/revision/latest/scale-to-width-down/350?cb=20170320162306\" width=130 align='right' />"
   ]
  },
  {
   "cell_type": "code",
   "execution_count": null,
   "id": "35264b3e",
   "metadata": {},
   "outputs": [],
   "source": []
  }
 ],
 "metadata": {
  "kernelspec": {
   "display_name": "Python 3",
   "language": "python",
   "name": "python3"
  },
  "language_info": {
   "codemirror_mode": {
    "name": "ipython",
    "version": 3
   },
   "file_extension": ".py",
   "mimetype": "text/x-python",
   "name": "python",
   "nbconvert_exporter": "python",
   "pygments_lexer": "ipython3",
   "version": "3.6.15"
  }
 },
 "nbformat": 4,
 "nbformat_minor": 5
}
