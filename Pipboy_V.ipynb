{
 "cells": [
  {
   "cell_type": "markdown",
   "id": "ded43bf0",
   "metadata": {},
   "source": [
    "<img src=\"https://gamepedia.cursecdn.com/fallout_gamepedia/7/78/F76_Perk_Hacker.png\" width=100 align=\"left\" />\n",
    "\n",
    "<img src=\"https://vignette.wikia.nocookie.net/fallout/images/e/ec/Fo4_Hacker.png/revision/latest/scale-to-width-down/350?cb=20170320162306\" width=130 align='right' />\n",
    "\n",
    "## <center>Congratulations on finding your shiny new `Pipboy.V`</center>\n",
    "\n",
    "`J3_14`"
   ]
  },
  {
   "cell_type": "markdown",
   "id": "6eb3614a",
   "metadata": {},
   "source": [
    "<div class=\"alert alert-danger alertdanger\" style=\"margin-top: 0px\">\n",
    "<center>\n",
    "    <h5> This is a nightly version of Pipboy and comes without guarantees! </h5></center>\n",
    "</div>"
   ]
  },
  {
   "cell_type": "markdown",
   "id": "5efe0fab",
   "metadata": {},
   "source": [
    "<h1><img src=\"https://gamepedia.cursecdn.com/fallout_gamepedia/7/78/F76_Perk_Hacker.png\" width=100 align=\"left\" /img></h1>\n",
    "\n",
    "<h4>Pip your packages!</h4>  \n",
    "    \n",
    "`import` your packages and `await` progress"
   ]
  },
  {
   "cell_type": "code",
   "execution_count": null,
   "id": "0fa6d0ab",
   "metadata": {},
   "outputs": [],
   "source": [
    "import piplite\n",
    "import micropip\n",
    "await micropip.install(['ipywidgets'],keep_going=True)\n",
    "await micropip.install(['tqdm'],keep_going=True)"
   ]
  },
  {
   "cell_type": "code",
   "execution_count": null,
   "id": "e1b8597d",
   "metadata": {},
   "outputs": [],
   "source": [
    "#--- install and import numpy\n",
    "piplite.install(['numpy'])\n",
    "import numpy as np\n",
    "\n",
    "#--- install and import pandas\n",
    "await piplite.install(['pandas'])\n",
    "import pandas as pd\n",
    "\n",
    "#--- istall and import scipy\n",
    "await piplite.install(['scipy'])\n",
    "import scipy\n",
    "\n",
    "#--- install matplotlib and import pyplot\n",
    "await piplite.install(['matplotlib'])\n",
    "import matplotlib.pyplot as plt\n",
    "\n",
    "#--- install and import webbrowser\n",
    "await piplite.install(['webbrowser'])\n",
    "import webbrowser\n",
    "\n",
    "#--- install and import requests\n",
    "await piplite.install(['requests'])\n",
    "import requests\n",
    "\n",
    "#--- install bs4 and import BeautifulSoup\n",
    "await piplite.install(['bs4'])\n",
    "from bs4 import BeautifulSoup\n",
    "\n",
    "#--- import pyfetch and create a function to fetch web files\n",
    "from pyodide.http import pyfetch\n",
    "async def download(url, filename):\n",
    "    response = await pyfetch(url)\n",
    "    if response.status == 200:\n",
    "        with open(filename, \"wb\") as f:\n",
    "            f.write(await response.bytes())\n"
   ]
  },
  {
   "cell_type": "markdown",
   "id": "18709709",
   "metadata": {},
   "source": [
    "<img src=\"https://vignette.wikia.nocookie.net/fallout/images/e/ec/Fo4_Hacker.png/revision/latest/scale-to-width-down/350?cb=20170320162306\" width=130 align='right' />"
   ]
  },
  {
   "cell_type": "code",
   "execution_count": null,
   "id": "35264b3e",
   "metadata": {},
   "outputs": [],
   "source": []
  }
 ],
 "metadata": {
  "kernelspec": {
   "display_name": "Python 3",
   "language": "python",
   "name": "python3"
  },
  "language_info": {
   "codemirror_mode": {
    "name": "ipython",
    "version": 3
   },
   "file_extension": ".py",
   "mimetype": "text/x-python",
   "name": "python",
   "nbconvert_exporter": "python",
   "pygments_lexer": "ipython3",
   "version": "3.6.15"
  }
 },
 "nbformat": 4,
 "nbformat_minor": 5
}
